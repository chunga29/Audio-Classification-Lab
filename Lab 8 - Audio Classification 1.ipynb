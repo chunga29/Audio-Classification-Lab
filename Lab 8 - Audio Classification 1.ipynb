{
 "cells": [
  {
   "cell_type": "markdown",
   "metadata": {
    "deletable": false,
    "editable": false,
    "nbgrader": {
     "cell_type": "markdown",
     "checksum": "3a2d69266e438dc5ff367df299a78730",
     "grade": false,
     "grade_id": "cell-cad022ce18ee41e4",
     "locked": true,
     "schema_version": 3,
     "solution": false,
     "task": false
    }
   },
   "source": [
    "# CS448 - Lab 8: Audio Classification "
   ]
  },
  {
   "cell_type": "markdown",
   "metadata": {
    "deletable": false,
    "editable": false,
    "nbgrader": {
     "cell_type": "markdown",
     "checksum": "b455130b72ffb37275f09743824b7b93",
     "grade": false,
     "grade_id": "cell-de39fbc2436b23e5",
     "locked": true,
     "schema_version": 3,
     "solution": false,
     "task": false
    }
   },
   "source": [
    "## Part 1: Making a speech detector"
   ]
  },
  {
   "cell_type": "markdown",
   "metadata": {
    "deletable": false,
    "editable": false,
    "nbgrader": {
     "cell_type": "markdown",
     "checksum": "8e6bdc6e62576f57eebd1cbeb704ef88",
     "grade": false,
     "grade_id": "cell-2aa6f72c371ee5fd",
     "locked": true,
     "schema_version": 3,
     "solution": false,
     "task": false
    }
   },
   "source": [
    "In this section we will design a simple classifier that will let us know if its input is speech or non-speech. Download the data archive from: [ https://drive.google.com/file/d/1Z8tj-HHQCvT54Mr20Dc1UfV48SPY449r/view ] In this part we will use the dataset in data/SpeechMusic. In it you will find two directories, speech/ and music/ containing data from each class.\n",
    "\n",
    "Randomly select 50 soundfiles from each directory to use as training data, and use the remaining sounds as testing data. For all of the sounds we will compute a representation that makes the classification easier and we will use a simple Gaussian model to classify them. Do the following:\n",
    "\n",
    "- Perform an STFT for each sound, take it’s magnitude and raise it to 0.3 to improve contrast\n",
    "    - We will consider each spectral slice of that to be a data point\n",
    "- Using the training data of each sound:\n",
    "    - Calculate the mean column and the diagonal covariance of the columns\n",
    "    - You will thus get two sets of Gaussian parameters that model each sound class\n",
    "- For each testing data point:\n",
    "    - Calculate the likelihood of each column based on the above models\n",
    "\t- To calculate the entire file likelihood add all the frame likelihoods\n",
    "\t- Assign each soundfile to the class that gets the highest likelihood\n",
    "\n",
    "For extra credit implement the parameter estimation and model likelihood yourself. If you are too lazy for that you can instead use ```sklearn.mixture.GaussianMixture``` to learn a diagonal single-Gaussian model per class.\n",
    "\n",
    "How do the results look like? If you rerun this with a different training/testing set, is there an appreciable difference? On average over multiple training/testing sets what accuracy do you get?"
   ]
  },
  {
   "cell_type": "code",
   "execution_count": 39,
   "metadata": {},
   "outputs": [],
   "source": [
    "import scipy\n",
    "from scipy import signal\n",
    "import numpy as np\n",
    "from numpy import min, max, remainder, fromfile, abs\n",
    "import matplotlib.pyplot as plt\n",
    "import pdb\n",
    "import math\n",
    "import cmath\n",
    "from sklearn.mixture import GaussianMixture\n",
    "from os import listdir\n",
    "import os\n",
    " \n",
    "def wavreadurl( url):\n",
    "    import urllib.request, io, scipy.io.wavfile\n",
    "    f = urllib.request.urlopen( urllib.request.Request( url))\n",
    "    sr,s = scipy.io.wavfile.read( io.BytesIO( f.read()))\n",
    "    return sr, s.astype( 'float32')/32768\n",
    "\n",
    "def wavreadlocal(path):\n",
    "    import urllib.request, io, scipy.io.wavfile\n",
    "    sr,s = scipy.io.wavfile.read(path)\n",
    "    return sr, s.astype( 'float32')/32768\n",
    "\n",
    "def sound( x, rate=8000, label=''):\n",
    "    from IPython.display import display, Audio, HTML\n",
    "    display( HTML( \n",
    "    '<style> table, th, td {border: 0px; }</style> <table><tr><td>' + label + \n",
    "    '</td><td>' + Audio( x, rate=rate)._repr_html_()[3:] + '</td></tr></table>'\n",
    "    ))\n",
    "\n",
    "def stft( input_sound, dft_size, hop_size, zero_pad, window):\n",
    "    input_filled = input_sound\n",
    "    \n",
    "    # Fill frames list with windowed vectors\n",
    "    frames_list = []\n",
    "    for i in range(int(len(input_filled) / hop_size) - 2):\n",
    "        if (i*hop_size+dft_size < len(input_filled)):\n",
    "            frames_list.append(input_filled[(i*hop_size):(i*hop_size)+dft_size])\n",
    "            \n",
    "    windowed_list = []\n",
    "    for frame in frames_list:\n",
    "        windowed_list.append(np.asarray([frame[i] * window[i] for i in range(dft_size)]))\n",
    "    \n",
    "    # Take all of the DFT vectors and concatenate them as columns of a matrix.\n",
    "    spectro = []\n",
    "    for x in windowed_list:\n",
    "        spectro.append(np.fft.rfft(x, dft_size + zero_pad))\n",
    "    \n",
    "    # Return a complex-valued spectrogram (frequencies x time)\n",
    "    return np.array(spectro)\n",
    "\n",
    "def istft( stft_output, dft_size, hop_size, zero_pad):\n",
    "    windowed_list = []\n",
    "    for x in stft_output.T:\n",
    "        windowed_list.append(np.fft.irfft(x, dft_size + zero_pad))\n",
    "    windowed_list = np.array(windowed_list)\n",
    "    \n",
    "    windowed_list = windowed_list.T[:dft_size].T\n",
    "\n",
    "    # Length of Array: hop_size * (len(windowed_list) - 1) + dft_size\n",
    "    fill = np.zeros(hop_size * (len(windowed_list) - 1) + dft_size)\n",
    "    for i in range(len(windowed_list)): # Iterate Frames\n",
    "            fill[(i*hop_size):(i*hop_size)+dft_size] += windowed_list[i]\n",
    "\n",
    "    # Return reconstructed waveform\n",
    "    return fill\n",
    "\n",
    "def createXTicks(stft_output, sr):\n",
    "    x_ind = []\n",
    "    for i in range(len(stft_output.T)):\n",
    "        x_ind.append('%.2f'%(128 * i / sr))\n",
    "    return x_ind\n",
    "\n",
    "def createYTicks(stft_output, sr):\n",
    "    y_ind = []\n",
    "    for i in range(len(stft_output)):\n",
    "        y_ind.append(int(i * sr / 512))\n",
    "    return y_ind\n",
    "\n",
    "# Plot all the spectrograms\n",
    "def plotSpectrogram(stft, sr, ntitle=\"\"):\n",
    "    plt.figure()\n",
    "    plt.pcolormesh(np.abs(stft)**0.2)\n",
    "    plt.title(ntitle)\n",
    "    plt.xlabel(\"Seconds\")\n",
    "    plt.ylabel(\"Frequency\")\n",
    "    plt.xticks(range(len(stft.T)), createXTicks(stft, sr))\n",
    "    plt.yticks(range(len(stft)), createYTicks(stft,sr))\n",
    "    plt.locator_params(axis='x', nbins=10)\n",
    "    plt.locator_params(axis='y', nbins=12)"
   ]
  },
  {
   "cell_type": "code",
   "execution_count": 2,
   "metadata": {
    "deletable": false,
    "nbgrader": {
     "cell_type": "code",
     "checksum": "d5d414603227ac878e0dd7d54775eca6",
     "grade": true,
     "grade_id": "cell-fd9d89ff0ddb0ec1",
     "locked": false,
     "points": 3,
     "schema_version": 3,
     "solution": true,
     "task": false
    }
   },
   "outputs": [
    {
     "name": "stdout",
     "output_type": "stream",
     "text": [
      "done\n"
     ]
    }
   ],
   "source": [
    "# YOUR CODE HERE\n",
    "# Perform an STFT for each sound, take it’s magnitude and raise it to 0.3 to improve contrast\n",
    "# We will consider each spectral slice of that to be a data point\n",
    "speech_data = []\n",
    "for file in listdir(\"data/data/SpeechMusic/speech\"):\n",
    "    sr, wav = wavreadlocal(\"data/data/SpeechMusic/speech/\"+file)\n",
    "    stft_result = np.absolute(stft(wav, 2048, 256, 0, np.hanning(2048)))**0.3\n",
    "    speech_data.append(stft_result)\n",
    "    \n",
    "music_data = []\n",
    "for file in listdir(\"data/data/SpeechMusic/music\"):\n",
    "    sr, wav = wavreadlocal(\"data/data/SpeechMusic/music/\"+file)\n",
    "    stft_result = np.absolute(stft(wav, 2048, 256, 0, np.hanning(2048)))**0.3\n",
    "    music_data.append(stft_result)\n",
    "\n",
    "print(\"done\")"
   ]
  },
  {
   "cell_type": "code",
   "execution_count": 16,
   "metadata": {},
   "outputs": [
    {
     "name": "stdout",
     "output_type": "stream",
     "text": [
      "Accuracy 0.85\n",
      "The accuracy varies from 0.7 to 0.9 depending on the training/testing sets.\n"
     ]
    }
   ],
   "source": [
    "import random\n",
    "# Using the training data of each sound:\n",
    "# Calculate the mean column and the diagonal covariance of the columns\n",
    "# You will thus get two sets of Gaussian parameters that model each sound class\n",
    "\n",
    "all_speeches = speech_data.copy()\n",
    "random.shuffle(all_speeches)\n",
    "speech_training_set = all_speeches[:50]\n",
    "speech_testing_set = all_speeches[50:]\n",
    "\n",
    "all_music = music_data.copy()\n",
    "random.shuffle(all_music)\n",
    "music_training_set = all_music[:50]\n",
    "music_testing_set = all_music[50:]\n",
    "\n",
    "gauss_speech = GaussianMixture(1, covariance_type=\"diag\").fit(np.concatenate(speech_training_set))\n",
    "gauss_music = GaussianMixture(1, covariance_type=\"diag\").fit(np.concatenate(music_training_set))\n",
    "\n",
    "# For each testing data point:\n",
    "# Calculate the likelihood of each column based on the above models\n",
    "# To calculate the entire file likelihood add all the frame likelihoods\n",
    "# Assign each soundfile to the class that gets the highest likelihood\n",
    "\n",
    "speech_correct = 0\n",
    "for test in speech_testing_set:\n",
    "    if (gauss_speech.score(test) > gauss_music.score(test)):\n",
    "        speech_correct += 1\n",
    "        \n",
    "music_correct = 0\n",
    "for test in music_testing_set:\n",
    "    if (gauss_music.score(test) > gauss_speech.score(test)):\n",
    "        music_correct += 1\n",
    "\n",
    "print(\"Accuracy\", (speech_correct + music_correct) / 20)\n",
    "print(\"The accuracy varies from 0.7 to 0.9 depending on the training/testing sets.\")"
   ]
  },
  {
   "cell_type": "markdown",
   "metadata": {
    "deletable": false,
    "editable": false,
    "nbgrader": {
     "cell_type": "markdown",
     "checksum": "06bbd01450e6b4e79e1e797eed004eb9",
     "grade": false,
     "grade_id": "cell-ea09b70a28708831",
     "locked": true,
     "schema_version": 3,
     "solution": false,
     "task": false
    }
   },
   "source": [
    "## Part 2: Making a music genre classifier"
   ]
  },
  {
   "cell_type": "markdown",
   "metadata": {
    "deletable": false,
    "editable": false,
    "nbgrader": {
     "cell_type": "markdown",
     "checksum": "269037d2526644f0210bef91b148f92c",
     "grade": false,
     "grade_id": "cell-b577ec2dbb637ab9",
     "locked": true,
     "schema_version": 3,
     "solution": false,
     "task": false
    }
   },
   "source": [
    "We will repeat the above, but this time we will perform music genre classification. To do so we will use a slightly more elaborate feature representation, and a stronger classification model. If you downloaded the data archive pointed to above, you will find a subset of the CTZAN dataset in the data/genre folder, this is a benchmark data set for music genre classification.\n",
    "\n",
    "Just as before, you will find a set of directories with examples of each sound class that we want to recognize. For each class, split the soundfiles into a training set (50% of data) and testing set (remaining 50% of data).\n",
    "\n",
    "For a representation we will use MFCC features. For extra credit, code these yourself otherwise you can use the implementation from the ```librosa``` library. Once all the files are transformed we will have a series of MFCC frames for each recording (as opposed to spectral frames as is in the case of the STFT). We will use these as the data to classify.\n",
    "\n",
    "For each class learn a Gaussian model (with a diagonal covariance again). This will be the same process as above.\n",
    "In order to evaluate how good this works we will use the following procedure. For each sound in the training data, get the likelihood of each MFCC frame based on the learned Gaussian models and sum these over the entire file just as we did before. Use the resulting values to get a classification result for each . Report how accurate your results are. Now report the accuracy using your testing data instead.\n",
    "\n",
    "Now will use a better classifier to hopefully get better accuracy. We will use a Gaussian Mixture Model (```sklearn.mixture.GaussianMixture```). Just as before you should learn one such model for each class using the corresponding training data.\n",
    "\n",
    "How many Gaussians do you need in your GMM to get the best results? Do the MFCC parameters make a difference? Play around with the numbers to get the best possible results.  You should be able to get at least 70% accuracy on average."
   ]
  },
  {
   "cell_type": "code",
   "execution_count": 34,
   "metadata": {
    "deletable": false,
    "nbgrader": {
     "cell_type": "code",
     "checksum": "24f1bd9efdb18646cfb6372f1748c878",
     "grade": true,
     "grade_id": "cell-1f20306aee8e6f97",
     "locked": false,
     "points": 3,
     "schema_version": 3,
     "solution": true,
     "task": false
    }
   },
   "outputs": [],
   "source": [
    "import librosa\n",
    "def get_genre_data(genre):\n",
    "    data = []\n",
    "    for file in listdir(\"data/data/genres/\"+genre):\n",
    "        file, sr = librosa.core.load(\"data/data/genres/\"+genre+\"/\"+file)\n",
    "        file = np.array(file)\n",
    "        feature = librosa.feature.mfcc(y=file, sr=sr, n_mfcc=60)\n",
    "        data.append(feature)\n",
    "    return data\n",
    "    \n",
    "classical_data = get_genre_data('classical')\n",
    "disco_data = get_genre_data('disco')\n",
    "metal_data = get_genre_data('metal')\n",
    "pop_data = get_genre_data('pop')\n",
    "reggae_data = get_genre_data('reggae')"
   ]
  },
  {
   "cell_type": "code",
   "execution_count": 69,
   "metadata": {},
   "outputs": [],
   "source": [
    "import random\n",
    "def splitter(all_samples):\n",
    "    all_samples = all_samples.copy()\n",
    "    random.shuffle(all_samples)\n",
    "    index = int(len(all_samples)/2)\n",
    "    training_set = all_samples[:index]\n",
    "    testing_set = all_samples[index:]\n",
    "    return training_set, testing_set"
   ]
  },
  {
   "cell_type": "code",
   "execution_count": 72,
   "metadata": {},
   "outputs": [],
   "source": [
    "classical_training, classical_testing = splitter(classical_data)\n",
    "disco_training, disco_testing = splitter(disco_data)\n",
    "metal_training, metal_testing = splitter(metal_data)\n",
    "pop_training, pop_testing = splitter(pop_data)\n",
    "reggae_training, reggae_testing = splitter(reggae_data)\n",
    "\n",
    "gauss_classical = GaussianMixture(5, covariance_type=\"diag\").fit(np.concatenate(classical_training, axis=1).T)\n",
    "gauss_disco = GaussianMixture(5, covariance_type=\"diag\").fit(np.concatenate(disco_training, axis=1).T)\n",
    "gauss_metal = GaussianMixture(5, covariance_type=\"diag\").fit(np.concatenate(metal_training, axis=1).T)\n",
    "gauss_pop = GaussianMixture(5, covariance_type=\"diag\").fit(np.concatenate(pop_training, axis=1).T)\n",
    "gauss_reggae = GaussianMixture(5, covariance_type=\"diag\").fit(np.concatenate(reggae_training, axis=1).T)"
   ]
  },
  {
   "cell_type": "code",
   "execution_count": 75,
   "metadata": {},
   "outputs": [
    {
     "name": "stdout",
     "output_type": "stream",
     "text": [
      "Accuracy:  0.848\n",
      "After several rounds of testing, the overall accuracy varies from around 0.82 to 0.87.\n"
     ]
    }
   ],
   "source": [
    "num_correct = 0\n",
    "genres_testing = [classical_testing, disco_testing, metal_testing, pop_testing, reggae_testing]\n",
    "genres_training = [gauss_classical, gauss_disco, gauss_metal, gauss_pop, gauss_reggae]\n",
    "\n",
    "for curr, genre in enumerate(genres_testing):\n",
    "    for sample in genre:\n",
    "        llhs = []\n",
    "        for train in genres_training:\n",
    "            llhs.append(train.score(sample.T))\n",
    "        if (np.argmax(llhs) == curr):\n",
    "            num_correct += 1\n",
    "    \n",
    "total_tests = 0\n",
    "for tests in genres_testing:\n",
    "    total_tests += len(tests)\n",
    "print(\"Accuracy: \", num_correct / total_tests)\n",
    "print(\"After several rounds of testing, the overall accuracy varies from around 0.82 to 0.87.\")"
   ]
  },
  {
   "cell_type": "markdown",
   "metadata": {
    "deletable": false,
    "editable": false,
    "nbgrader": {
     "cell_type": "markdown",
     "checksum": "ed704c16a51ce2ee6a7765a36b0bcc1d",
     "grade": false,
     "grade_id": "cell-0366f48ef1511eb0",
     "locked": true,
     "schema_version": 3,
     "solution": false,
     "task": false
    }
   },
   "source": [
    "## Part 3: Make it better (extra credit, required for 4-hour registrants)"
   ]
  },
  {
   "cell_type": "markdown",
   "metadata": {
    "deletable": false,
    "editable": false,
    "nbgrader": {
     "cell_type": "markdown",
     "checksum": "b5c3fcfa38c9061e0c3c36080310de8f",
     "grade": false,
     "grade_id": "cell-ee7356244c540bcc",
     "locked": true,
     "schema_version": 3,
     "solution": false,
     "task": false
    }
   },
   "source": [
    "There is no shortage of techniques (and free code) to use for classification. Revisit the two problems above and use any other type of classifier you want (Neural Nets, Boosting, Decision Trees, whatever). Also feel free to use any feature you want. Can you improve on the results you got before? How much higher can you get your accuracy for either case?"
   ]
  },
  {
   "cell_type": "code",
   "execution_count": null,
   "metadata": {
    "deletable": false,
    "nbgrader": {
     "cell_type": "code",
     "checksum": "d6ce280f53f8d615656d2c91be53d297",
     "grade": true,
     "grade_id": "cell-b5bfb3525df0e1de",
     "locked": false,
     "points": 3,
     "schema_version": 3,
     "solution": true,
     "task": false
    }
   },
   "outputs": [],
   "source": [
    "# YOUR CODE HERE\n",
    "raise NotImplementedError()"
   ]
  }
 ],
 "metadata": {
  "kernelspec": {
   "display_name": "Python 3",
   "language": "python",
   "name": "python3"
  },
  "language_info": {
   "codemirror_mode": {
    "name": "ipython",
    "version": 3
   },
   "file_extension": ".py",
   "mimetype": "text/x-python",
   "name": "python",
   "nbconvert_exporter": "python",
   "pygments_lexer": "ipython3",
   "version": "3.8.8"
  },
  "nteract": {
   "version": "0.28.0"
  }
 },
 "nbformat": 4,
 "nbformat_minor": 2
}
